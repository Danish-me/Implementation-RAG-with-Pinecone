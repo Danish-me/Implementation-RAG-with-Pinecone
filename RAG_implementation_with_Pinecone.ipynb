{
  "nbformat": 4,
  "nbformat_minor": 0,
  "metadata": {
    "colab": {
      "provenance": [],
      "authorship_tag": "ABX9TyPvK0h+PeSMMuK7qypQz3Hr",
      "include_colab_link": true
    },
    "kernelspec": {
      "name": "python3",
      "display_name": "Python 3"
    },
    "language_info": {
      "name": "python"
    }
  },
  "cells": [
    {
      "cell_type": "markdown",
      "metadata": {
        "id": "view-in-github",
        "colab_type": "text"
      },
      "source": [
        "<a href=\"https://colab.research.google.com/github/Danish-me/Implementation-RAG-with-Pinecone/blob/main/RAG_implementation_with_Pinecone.ipynb\" target=\"_parent\"><img src=\"https://colab.research.google.com/assets/colab-badge.svg\" alt=\"Open In Colab\"/></a>"
      ]
    },
    {
      "cell_type": "code",
      "execution_count": 1,
      "metadata": {
        "colab": {
          "base_uri": "https://localhost:8080/"
        },
        "id": "36xj-53vjtAN",
        "outputId": "b5c2e3ba-7e92-4e32-d95c-8038430688d0",
        "collapsed": true
      },
      "outputs": [
        {
          "output_type": "stream",
          "name": "stdout",
          "text": [
            "\u001b[?25l   \u001b[90m━━━━━━━━━━━━━━━━━━━━━━━━━━━━━━━━━━━━━━━━\u001b[0m \u001b[32m0.0/41.7 kB\u001b[0m \u001b[31m?\u001b[0m eta \u001b[36m-:--:--\u001b[0m\r\u001b[2K   \u001b[90m━━━━━━━━━━━━━━━━━━━━━━━━━━━━━━━━━━━━━━━━\u001b[0m \u001b[32m41.7/41.7 kB\u001b[0m \u001b[31m1.5 MB/s\u001b[0m eta \u001b[36m0:00:00\u001b[0m\n",
            "\u001b[2K   \u001b[90m━━━━━━━━━━━━━━━━━━━━━━━━━━━━━━━━━━━━━━━━\u001b[0m \u001b[32m1.3/1.3 MB\u001b[0m \u001b[31m13.9 MB/s\u001b[0m eta \u001b[36m0:00:00\u001b[0m\n",
            "\u001b[2K   \u001b[90m━━━━━━━━━━━━━━━━━━━━━━━━━━━━━━━━━━━━━━━━\u001b[0m \u001b[32m427.3/427.3 kB\u001b[0m \u001b[31m16.6 MB/s\u001b[0m eta \u001b[36m0:00:00\u001b[0m\n",
            "\u001b[2K   \u001b[90m━━━━━━━━━━━━━━━━━━━━━━━━━━━━━━━━━━━━━━━━\u001b[0m \u001b[32m87.5/87.5 kB\u001b[0m \u001b[31m4.7 MB/s\u001b[0m eta \u001b[36m0:00:00\u001b[0m\n",
            "\u001b[2K   \u001b[90m━━━━━━━━━━━━━━━━━━━━━━━━━━━━━━━━━━━━━━━━\u001b[0m \u001b[32m50.3/50.3 kB\u001b[0m \u001b[31m2.2 MB/s\u001b[0m eta \u001b[36m0:00:00\u001b[0m\n",
            "\u001b[?25h"
          ]
        }
      ],
      "source": [
        "%pip install -qU langchain-pinecone langchain-google-genai"
      ]
    },
    {
      "cell_type": "code",
      "source": [
        "from google.colab import userdata\n",
        "from pinecone import Pinecone, ServerlessSpec\n",
        "\n",
        "pinecone_api_key = userdata.get('PINECONE_API_KEY')\n",
        "\n",
        "pc = Pinecone(api_key=pinecone_api_key)"
      ],
      "metadata": {
        "id": "Z5AISraGl53A"
      },
      "execution_count": 2,
      "outputs": []
    },
    {
      "cell_type": "code",
      "source": [
        "import time\n",
        "\n",
        "index_name = \"langchain-rag\"  # change if desired\n",
        "\n",
        "existing_indexes = [index_info[\"name\"] for index_info in pc.list_indexes()]\n",
        "\n",
        "if index_name not in existing_indexes:\n",
        "    pc.create_index(\n",
        "        name=index_name,\n",
        "        dimension=768,\n",
        "        metric=\"cosine\",\n",
        "        spec=ServerlessSpec(cloud=\"aws\", region=\"us-east-1\"),\n",
        "    )\n",
        "    while not pc.describe_index(index_name).status[\"ready\"]:\n",
        "        time.sleep(1)\n",
        "\n",
        "index = pc.Index(index_name)"
      ],
      "metadata": {
        "id": "j3ssXAclACD6"
      },
      "execution_count": 3,
      "outputs": []
    },
    {
      "cell_type": "code",
      "source": [
        "from langchain_google_genai import GoogleGenerativeAIEmbeddings\n",
        "\n",
        "import os\n",
        "\n",
        "os.environ['GOOGLE_API_KEY'] = userdata.get('GOOGLE_API_KEY')\n",
        "\n",
        "embeddings = GoogleGenerativeAIEmbeddings(model=\"models/embedding-001\")\n"
      ],
      "metadata": {
        "id": "8DVPALCAxg2z"
      },
      "execution_count": 4,
      "outputs": []
    },
    {
      "cell_type": "code",
      "source": [
        "from langchain_pinecone import PineconeVectorStore\n",
        "\n",
        "vector_store = PineconeVectorStore(embedding=embeddings, index=index)"
      ],
      "metadata": {
        "id": "2HzCM6Oq3rK3"
      },
      "execution_count": 5,
      "outputs": []
    },
    {
      "cell_type": "code",
      "source": [
        "from uuid import uuid4\n",
        "\n",
        "from langchain_core.documents import Document\n",
        "\n",
        "document_1 = Document(\n",
        "    page_content=\"Responsibilities: Develops, implements, and maintains the QMS. Ensures compliance with relevant quality standards and regulations. Leads quality audits and continuous improvement initiatives.\",\n",
        "    metadata={\"source\": \"website\"},\n",
        ")\n",
        "\n",
        "document_2 = Document(\n",
        "    page_content=\"Quality Assurance (QA) Specialist: Responsibilities: Conducts audits, reviews processes, and ensures that quality standards are consistently met. Identifies and documents non-conformances and follows up on corrective actions.\",\n",
        "    metadata={\"source\": \"website\"},\n",
        ")\n",
        "\n",
        "document_3 = Document(\n",
        "    page_content=\"Document Control Specialist: Responsibilities: Manages and controls all QMS documentation, ensuring documents are updated, reviewed, and distributed as needed. Maintains records of quality audits and reports.\",\n",
        "    metadata={\"source\": \"website\"},\n",
        ")\n",
        "\n",
        "document_4 = Document(\n",
        "    page_content=\"Compliance Officer: esponsibilities: Ensures that the organization complies with external regulations and standards related to quality. Prepares for and manages external audits.\",\n",
        "    metadata={\"source\": \"website\"},\n",
        ")\n",
        "\n",
        "document_5 = Document(\n",
        "    page_content=\"Training Coordinator: Responsibilities: Develops and delivers training programs related to quality standards and procedures. Ensures that all employees understand their role in the QMS.\",\n",
        "    metadata={\"source\": \"website\"},\n",
        ")\n",
        "\n",
        "document_6 = Document(\n",
        "    page_content=\"Process Engineer: Responsibilities: Designs and optimizes production processes to ensure efficiency and quality. Works closely with QA and QC teams to implement improvements.\",\n",
        "    metadata={\"source\": \"website\"},\n",
        ")\n",
        "\n",
        "documents = [\n",
        "    document_1,\n",
        "    document_2,\n",
        "    document_3,\n",
        "    document_4,\n",
        "    document_5,\n",
        "    document_6,\n",
        "]\n",
        "uuids = [str(uuid4()) for _ in range(len(documents))]\n",
        "\n",
        "vector_store.add_documents(documents=documents, ids=uuids)"
      ],
      "metadata": {
        "colab": {
          "base_uri": "https://localhost:8080/"
        },
        "collapsed": true,
        "id": "tdw0tBmfbrOo",
        "outputId": "e4c9137b-3af9-4d8d-c7c0-43490454e79f"
      },
      "execution_count": 6,
      "outputs": [
        {
          "output_type": "execute_result",
          "data": {
            "text/plain": [
              "['bcdfbece-27d3-4cf4-8517-7dad6bc6beef',\n",
              " 'e95bccc6-3b68-4cdb-8d2e-b998bcc0eabe',\n",
              " 'f3edd774-6927-4743-a9de-839bd639d2ab',\n",
              " 'ac4778ae-930a-46df-9101-f94d0fb85188',\n",
              " '67399b23-81be-4769-87ed-e2cb43d4c5f6',\n",
              " 'f02683c3-d7b8-436c-b0b3-6c4218f1b7f7']"
            ]
          },
          "metadata": {},
          "execution_count": 6
        }
      ]
    },
    {
      "cell_type": "code",
      "source": [
        "from uuid import uuid4\n",
        "\n",
        "from langchain_core.documents import Document"
      ],
      "metadata": {
        "id": "mofyKP6tyk_A"
      },
      "execution_count": 7,
      "outputs": []
    },
    {
      "cell_type": "code",
      "source": [
        "uuids = [str(uuid4()) for _ in range(len(documents))]\n",
        "\n",
        "vector_store.add_documents(documents=documents, ids=uuids)"
      ],
      "metadata": {
        "colab": {
          "base_uri": "https://localhost:8080/"
        },
        "id": "_xDDAoftzc2l",
        "outputId": "7ea106d6-bacb-4bba-c115-0cdc3e94375b",
        "collapsed": true
      },
      "execution_count": 8,
      "outputs": [
        {
          "output_type": "execute_result",
          "data": {
            "text/plain": [
              "['e4d992c0-9320-4632-907d-3fb68b39d3aa',\n",
              " '779183f7-98a6-448c-97df-323fc865d2d8',\n",
              " '33672e6c-62e5-46c9-aeee-a6ed4cf8aab6',\n",
              " '63cd36e4-5269-481d-8ec8-4e1d57dcc426',\n",
              " '87d3c28f-9b0a-411c-a1eb-ed905eef05bd',\n",
              " '361f6b21-9e68-40de-b524-851f9cc608ea']"
            ]
          },
          "metadata": {},
          "execution_count": 8
        }
      ]
    },
    {
      "cell_type": "code",
      "source": [
        "# Data Retrieve (just for testing)\n",
        "results = vector_store.similarity_search(\n",
        "    \"Designs and optimizes production processes\",\n",
        "    k=2,\n",
        "    filter={\"source\": \"website\"},\n",
        ")\n",
        "for res in results:\n",
        "    print(f\"* {res.page_content} [{res.metadata}]\")\n",
        "\n",
        "    # Answer"
      ],
      "metadata": {
        "colab": {
          "base_uri": "https://localhost:8080/"
        },
        "id": "r_skqyTqcbWn",
        "outputId": "2294a7a8-a52e-465c-8fdc-7fdd6ab6d438"
      },
      "execution_count": 16,
      "outputs": [
        {
          "output_type": "stream",
          "name": "stdout",
          "text": [
            "* Process Engineer: Responsibilities: Designs and optimizes production processes to ensure efficiency and quality. Works closely with QA and QC teams to implement improvements. [{'source': 'website'}]\n",
            "* Process Engineer: Responsibilities: Designs and optimizes production processes to ensure efficiency and quality. Works closely with QA and QC teams to implement improvements. [{'source': 'website'}]\n"
          ]
        }
      ]
    },
    {
      "cell_type": "code",
      "source": [
        "from langchain_google_genai import ChatGoogleGenerativeAI\n",
        "\n",
        "llm = ChatGoogleGenerativeAI(\n",
        "    model=\"gemini-1.5-flash\",\n",
        "    temperature=0,\n",
        "    max_tokens=None,\n",
        "    timeout=None,\n",
        "    max_retries=2,\n",
        "    # other params...\n",
        ")"
      ],
      "metadata": {
        "id": "TW35-J_5gGMm"
      },
      "execution_count": 11,
      "outputs": []
    },
    {
      "cell_type": "code",
      "source": [
        "def answer_to_user(query:str):\n",
        "\n",
        "  # Vector Search\n",
        "\n",
        "  vector_results =vector_store.similarity_search(query, k=2)\n",
        "\n",
        "  print(len(vector_results))\n",
        "\n",
        "  # pass to model vector results + user query\n",
        "\n",
        "  final_answer = llm.invoke(f\"ANSWER THIS USER QUERY{query}, Here are some reference to answer {vector_results}\")\n",
        "\n",
        "  return final_answer\n"
      ],
      "metadata": {
        "id": "ATFVRvPDganz"
      },
      "execution_count": 12,
      "outputs": []
    },
    {
      "cell_type": "code",
      "source": [
        "# Pass the question to llm.\n",
        "answer = answer_to_user(\"Designs and optimizes production processes\")"
      ],
      "metadata": {
        "colab": {
          "base_uri": "https://localhost:8080/"
        },
        "id": "dlYk4Fwrmu8c",
        "outputId": "d67409d8-c3a2-4374-90a0-8093f4131399"
      },
      "execution_count": 17,
      "outputs": [
        {
          "output_type": "stream",
          "name": "stdout",
          "text": [
            "2\n"
          ]
        }
      ]
    },
    {
      "cell_type": "code",
      "source": [
        "# Here Answer to my question.\n",
        "answer.content"
      ],
      "metadata": {
        "colab": {
          "base_uri": "https://localhost:8080/",
          "height": 53
        },
        "id": "0pYBdUn5sajr",
        "outputId": "2586b165-ae7f-44c2-f61a-99d7db2b6b2a"
      },
      "execution_count": 18,
      "outputs": [
        {
          "output_type": "execute_result",
          "data": {
            "text/plain": [
              "'A Process Engineer designs and optimizes production processes to improve efficiency and quality.  This includes working closely with Quality Assurance (QA) and Quality Control (QC) teams to implement process improvements.'"
            ],
            "application/vnd.google.colaboratory.intrinsic+json": {
              "type": "string"
            }
          },
          "metadata": {},
          "execution_count": 18
        }
      ]
    }
  ]
}